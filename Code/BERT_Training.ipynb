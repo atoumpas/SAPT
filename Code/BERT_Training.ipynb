{
  "nbformat": 4,
  "nbformat_minor": 0,
  "metadata": {
    "colab": {
      "provenance": [],
      "gpuType": "T4"
    },
    "kernelspec": {
      "name": "python3",
      "display_name": "Python 3"
    },
    "language_info": {
      "name": "python"
    },
    "accelerator": "GPU"
  },
  "cells": [
    {
      "cell_type": "markdown",
      "source": [
        "**Section 1: Load Training dataset**"
      ],
      "metadata": {
        "id": "qma_ogWC4kb7"
      }
    },
    {
      "cell_type": "code",
      "source": [
        "# Install libraries\n",
        "!pip install tweet-preprocessor\n",
        "!pip install transformers==4.28.0\n",
        "!pip install evaluate"
      ],
      "metadata": {
        "colab": {
          "base_uri": "https://localhost:8080/"
        },
        "id": "n5i9DgGQDVDB",
        "outputId": "07d7c4b5-070f-43d7-9d00-4deae1484258"
      },
      "execution_count": null,
      "outputs": [
        {
          "output_type": "stream",
          "name": "stdout",
          "text": [
            "Looking in indexes: https://pypi.org/simple, https://us-python.pkg.dev/colab-wheels/public/simple/\n",
            "Requirement already satisfied: tweet-preprocessor in /usr/local/lib/python3.10/dist-packages (0.6.0)\n",
            "Looking in indexes: https://pypi.org/simple, https://us-python.pkg.dev/colab-wheels/public/simple/\n",
            "Requirement already satisfied: transformers==4.28.0 in /usr/local/lib/python3.10/dist-packages (4.28.0)\n",
            "Requirement already satisfied: filelock in /usr/local/lib/python3.10/dist-packages (from transformers==4.28.0) (3.12.0)\n",
            "Requirement already satisfied: huggingface-hub<1.0,>=0.11.0 in /usr/local/lib/python3.10/dist-packages (from transformers==4.28.0) (0.15.1)\n",
            "Requirement already satisfied: numpy>=1.17 in /usr/local/lib/python3.10/dist-packages (from transformers==4.28.0) (1.22.4)\n",
            "Requirement already satisfied: packaging>=20.0 in /usr/local/lib/python3.10/dist-packages (from transformers==4.28.0) (23.1)\n",
            "Requirement already satisfied: pyyaml>=5.1 in /usr/local/lib/python3.10/dist-packages (from transformers==4.28.0) (6.0)\n",
            "Requirement already satisfied: regex!=2019.12.17 in /usr/local/lib/python3.10/dist-packages (from transformers==4.28.0) (2022.10.31)\n",
            "Requirement already satisfied: requests in /usr/local/lib/python3.10/dist-packages (from transformers==4.28.0) (2.27.1)\n",
            "Requirement already satisfied: tokenizers!=0.11.3,<0.14,>=0.11.1 in /usr/local/lib/python3.10/dist-packages (from transformers==4.28.0) (0.13.3)\n",
            "Requirement already satisfied: tqdm>=4.27 in /usr/local/lib/python3.10/dist-packages (from transformers==4.28.0) (4.65.0)\n",
            "Requirement already satisfied: fsspec in /usr/local/lib/python3.10/dist-packages (from huggingface-hub<1.0,>=0.11.0->transformers==4.28.0) (2023.4.0)\n",
            "Requirement already satisfied: typing-extensions>=3.7.4.3 in /usr/local/lib/python3.10/dist-packages (from huggingface-hub<1.0,>=0.11.0->transformers==4.28.0) (4.5.0)\n",
            "Requirement already satisfied: urllib3<1.27,>=1.21.1 in /usr/local/lib/python3.10/dist-packages (from requests->transformers==4.28.0) (1.26.15)\n",
            "Requirement already satisfied: certifi>=2017.4.17 in /usr/local/lib/python3.10/dist-packages (from requests->transformers==4.28.0) (2022.12.7)\n",
            "Requirement already satisfied: charset-normalizer~=2.0.0 in /usr/local/lib/python3.10/dist-packages (from requests->transformers==4.28.0) (2.0.12)\n",
            "Requirement already satisfied: idna<4,>=2.5 in /usr/local/lib/python3.10/dist-packages (from requests->transformers==4.28.0) (3.4)\n",
            "Looking in indexes: https://pypi.org/simple, https://us-python.pkg.dev/colab-wheels/public/simple/\n",
            "Requirement already satisfied: evaluate in /usr/local/lib/python3.10/dist-packages (0.4.0)\n",
            "Requirement already satisfied: datasets>=2.0.0 in /usr/local/lib/python3.10/dist-packages (from evaluate) (2.12.0)\n",
            "Requirement already satisfied: numpy>=1.17 in /usr/local/lib/python3.10/dist-packages (from evaluate) (1.22.4)\n",
            "Requirement already satisfied: dill in /usr/local/lib/python3.10/dist-packages (from evaluate) (0.3.6)\n",
            "Requirement already satisfied: pandas in /usr/local/lib/python3.10/dist-packages (from evaluate) (1.5.3)\n",
            "Requirement already satisfied: requests>=2.19.0 in /usr/local/lib/python3.10/dist-packages (from evaluate) (2.27.1)\n",
            "Requirement already satisfied: tqdm>=4.62.1 in /usr/local/lib/python3.10/dist-packages (from evaluate) (4.65.0)\n",
            "Requirement already satisfied: xxhash in /usr/local/lib/python3.10/dist-packages (from evaluate) (3.2.0)\n",
            "Requirement already satisfied: multiprocess in /usr/local/lib/python3.10/dist-packages (from evaluate) (0.70.14)\n",
            "Requirement already satisfied: fsspec[http]>=2021.05.0 in /usr/local/lib/python3.10/dist-packages (from evaluate) (2023.4.0)\n",
            "Requirement already satisfied: huggingface-hub>=0.7.0 in /usr/local/lib/python3.10/dist-packages (from evaluate) (0.15.1)\n",
            "Requirement already satisfied: packaging in /usr/local/lib/python3.10/dist-packages (from evaluate) (23.1)\n",
            "Requirement already satisfied: responses<0.19 in /usr/local/lib/python3.10/dist-packages (from evaluate) (0.18.0)\n",
            "Requirement already satisfied: pyarrow>=8.0.0 in /usr/local/lib/python3.10/dist-packages (from datasets>=2.0.0->evaluate) (9.0.0)\n",
            "Requirement already satisfied: aiohttp in /usr/local/lib/python3.10/dist-packages (from datasets>=2.0.0->evaluate) (3.8.4)\n",
            "Requirement already satisfied: pyyaml>=5.1 in /usr/local/lib/python3.10/dist-packages (from datasets>=2.0.0->evaluate) (6.0)\n",
            "Requirement already satisfied: filelock in /usr/local/lib/python3.10/dist-packages (from huggingface-hub>=0.7.0->evaluate) (3.12.0)\n",
            "Requirement already satisfied: typing-extensions>=3.7.4.3 in /usr/local/lib/python3.10/dist-packages (from huggingface-hub>=0.7.0->evaluate) (4.5.0)\n",
            "Requirement already satisfied: urllib3<1.27,>=1.21.1 in /usr/local/lib/python3.10/dist-packages (from requests>=2.19.0->evaluate) (1.26.15)\n",
            "Requirement already satisfied: certifi>=2017.4.17 in /usr/local/lib/python3.10/dist-packages (from requests>=2.19.0->evaluate) (2022.12.7)\n",
            "Requirement already satisfied: charset-normalizer~=2.0.0 in /usr/local/lib/python3.10/dist-packages (from requests>=2.19.0->evaluate) (2.0.12)\n",
            "Requirement already satisfied: idna<4,>=2.5 in /usr/local/lib/python3.10/dist-packages (from requests>=2.19.0->evaluate) (3.4)\n",
            "Requirement already satisfied: python-dateutil>=2.8.1 in /usr/local/lib/python3.10/dist-packages (from pandas->evaluate) (2.8.2)\n",
            "Requirement already satisfied: pytz>=2020.1 in /usr/local/lib/python3.10/dist-packages (from pandas->evaluate) (2022.7.1)\n",
            "Requirement already satisfied: attrs>=17.3.0 in /usr/local/lib/python3.10/dist-packages (from aiohttp->datasets>=2.0.0->evaluate) (23.1.0)\n",
            "Requirement already satisfied: multidict<7.0,>=4.5 in /usr/local/lib/python3.10/dist-packages (from aiohttp->datasets>=2.0.0->evaluate) (6.0.4)\n",
            "Requirement already satisfied: async-timeout<5.0,>=4.0.0a3 in /usr/local/lib/python3.10/dist-packages (from aiohttp->datasets>=2.0.0->evaluate) (4.0.2)\n",
            "Requirement already satisfied: yarl<2.0,>=1.0 in /usr/local/lib/python3.10/dist-packages (from aiohttp->datasets>=2.0.0->evaluate) (1.9.2)\n",
            "Requirement already satisfied: frozenlist>=1.1.1 in /usr/local/lib/python3.10/dist-packages (from aiohttp->datasets>=2.0.0->evaluate) (1.3.3)\n",
            "Requirement already satisfied: aiosignal>=1.1.2 in /usr/local/lib/python3.10/dist-packages (from aiohttp->datasets>=2.0.0->evaluate) (1.3.1)\n",
            "Requirement already satisfied: six>=1.5 in /usr/local/lib/python3.10/dist-packages (from python-dateutil>=2.8.1->pandas->evaluate) (1.16.0)\n"
          ]
        }
      ]
    },
    {
      "cell_type": "code",
      "source": [
        "# Load general libraries\n",
        "import numpy as np\n",
        "import pandas as pd\n",
        "import torch\n",
        "\n",
        "# Load preprocessing libraries\n",
        "import preprocessor as p\n",
        "import unicodedata as ud\n",
        "from sklearn.model_selection import train_test_split\n",
        "\n",
        "# Load embeddings libraries\n",
        "from transformers import BertTokenizerFast\n",
        "\n",
        "# Load classifier libraries\n",
        "from transformers import BertForSequenceClassification, Trainer, TrainingArguments"
      ],
      "metadata": {
        "id": "ghaH9mbB4lQy"
      },
      "execution_count": null,
      "outputs": []
    },
    {
      "cell_type": "code",
      "source": [
        "from google.colab import drive\n",
        "drive.mount('/content/drive/')"
      ],
      "metadata": {
        "id": "9yW1OjGUreOT",
        "colab": {
          "base_uri": "https://localhost:8080/"
        },
        "outputId": "ae5113ab-1622-47c4-a773-7564c13668a7"
      },
      "execution_count": null,
      "outputs": [
        {
          "output_type": "stream",
          "name": "stdout",
          "text": [
            "Drive already mounted at /content/drive/; to attempt to forcibly remount, call drive.mount(\"/content/drive/\", force_remount=True).\n"
          ]
        }
      ]
    },
    {
      "cell_type": "code",
      "source": [
        "# Retrieve 2015 dataset from Github (!!!!!should probably change link at some point)\n",
        "url = \"https://raw.githubusercontent.com/dimosbele/sentiment_analysis_greek/master/modeling/data/df_final.pkl\"\n",
        "dataset = pd.read_pickle(url)\n",
        "\n",
        "X = np.array(dataset[\"Text\"])\n",
        "y = np.array(dataset[\"Sentiment\"])\n",
        "\n",
        "print(X[0])\n",
        "print(y[0])"
      ],
      "metadata": {
        "id": "dVjpqUWx4Pd5",
        "colab": {
          "base_uri": "https://localhost:8080/"
        },
        "outputId": "d9263e27-4e83-4762-82ae-5cab875908b6"
      },
      "execution_count": null,
      "outputs": [
        {
          "output_type": "stream",
          "name": "stdout",
          "text": [
            "Επιχείρηση Βολευτική έδρα!  Βασίλης Οικονόμου:  Από το ΠΑΣΟΚ διαγράφηκε απο το ΓΑΠ επειδη ΔΕΝ ψήφισε το Μνημόνιο... http://t.co/gPgr1Caqxv\n",
            "-1\n"
          ]
        }
      ]
    },
    {
      "cell_type": "markdown",
      "source": [
        "**Section 2: Preprocess tweets**"
      ],
      "metadata": {
        "id": "Ms5mFBTq4Avy"
      }
    },
    {
      "cell_type": "code",
      "execution_count": null,
      "metadata": {
        "id": "cYJ6XiOf3q1L",
        "colab": {
          "base_uri": "https://localhost:8080/"
        },
        "outputId": "721cfa33-2601-47a1-c580-535914ac355a"
      },
      "outputs": [
        {
          "output_type": "stream",
          "name": "stdout",
          "text": [
            "Επιχείρηση Βολευτική έδρα!  Βασίλης Οικονόμου:  Από το ΠΑΣΟΚ διαγράφηκε απο το ΓΑΠ επειδη ΔΕΝ ψήφισε το Μνημόνιο... http://t.co/gPgr1Caqxv\n",
            "Κ ά β ο ς: Ψηφοδέλτιο ΣΥΡΙΖΑ Κορινθίας - Πού πας,ΣΥΡΙΖΑ, με δράμι μυαλό... http://t.co/8eIiKYS7CP\n",
            "@Dora_Bakoyannis Αυτο-καρφώνεσαι όταν αναρωτιέσαι ποιον ΠτΔ θα προτείνει ο ΣΥΡΙΖΑ  αποδεχόμενη την νίκη του αντιπάλου.\n",
            "Κόμμα «σκαντζόχοιρος»: «Σφαγή» πασοκογενών από τις λίστες του ΣΥΡΙΖΑ http://t.co/rC7EY67qFY\n",
            "Και γαμώ και την Νέα Δημοκρατία γιατί ειμαι πολιτικο ακκάουντ στην τελική όχι κλαψομούνικο!!!!\n",
            "\n",
            "επιχειρηση βολευτικη εδρα! βασιλης οικονομου: απο το πασοκ διαγραφηκε απο το γαπ επειδη δεν ψηφισε το μνημονιο...\n",
            "κ α β ο ς: ψηφοδελτιο συριζα κορινθιας - που πας,συριζα, με δραμι μυαλο...\n",
            "αυτο-καρφωνεσαι οταν αναρωτιεσαι ποιον πτδ θα προτεινει ο συριζα αποδεχομενη την νικη του αντιπαλου.\n",
            "κομμα «σκαντζοχοιρος»: «σφαγη» πασοκογενων απο τις λιστες του συριζα\n",
            "και γαμω και την νεα δημοκρατια γιατι ειμαι πολιτικο ακκαουντ στην τελικη οχι κλαψομουνικο!!!!\n"
          ]
        }
      ],
      "source": [
        "# Preprocess tweets\n",
        "def preprocess_tweets(X):\n",
        "    X = clean_text(X)\n",
        "    return X\n",
        "\n",
        "def clean_text(X):\n",
        "    X = [tweet.lower() for tweet in X]\n",
        "\n",
        "    # Remove URLS, mentions\n",
        "    p.set_options(p.OPT.URL, p.OPT.MENTION)\n",
        "    X = [p.clean(tweet) for tweet in X]\n",
        "\n",
        "    # Remove Greek accents\n",
        "    d = {ord('\\N{COMBINING ACUTE ACCENT}'):None}\n",
        "    X = [ud.normalize('NFD',word).translate(d) for word in X]\n",
        "\n",
        "    return X\n",
        "\n",
        "for sample in X[:5]:\n",
        "    print(sample)\n",
        "print()\n",
        "\n",
        "X = preprocess_tweets(X)\n",
        "\n",
        "for sample in X[:5]:\n",
        "    print(sample)"
      ]
    },
    {
      "cell_type": "code",
      "source": [
        "for label in y[:5]:\n",
        "    print(label)\n",
        "print()\n",
        "\n",
        "# Change labels from [-1, 0, 1] to [0, 1, 2]\n",
        "for i in range(len(y)):\n",
        "    y[i] += 1\n",
        "\n",
        "for label in y[:5]:\n",
        "    print(label)\n",
        "\n",
        "# Split dataset to train-val-test (70-10-20)\n",
        "X_train, X_test, y_train, y_test = train_test_split(X, y, test_size = 0.2, random_state=42, stratify=y)\n",
        "\n",
        "X_train, X_val , y_train, y_val = train_test_split(X_train, y_train, test_size = 0.125, random_state=42, stratify=y_train)\n",
        "\n",
        "print(\"Training samples:\", len(y_train))\n",
        "print(\"Validation samples:\", len(y_val))\n",
        "print(\"Test samples:\", len(y_test))"
      ],
      "metadata": {
        "id": "WRkNC6EJ53ag",
        "colab": {
          "base_uri": "https://localhost:8080/"
        },
        "outputId": "f0786718-c040-40c5-d76c-b5372b908749"
      },
      "execution_count": null,
      "outputs": [
        {
          "output_type": "stream",
          "name": "stdout",
          "text": [
            "-1\n",
            "-1\n",
            "1\n",
            "0\n",
            "-1\n",
            "\n",
            "0\n",
            "0\n",
            "2\n",
            "1\n",
            "0\n",
            "Training samples: 1148\n",
            "Validation samples: 164\n",
            "Test samples: 328\n"
          ]
        }
      ]
    },
    {
      "cell_type": "code",
      "source": [
        "# Load active training samples\n",
        "X2 = pd.read_csv(\"drive/MyDrive/Active_Learning/Active_Learning.csv\")\n",
        "X2 = X2.to_numpy().ravel()\n",
        "\n",
        "y2 = pd.read_csv(\"drive/MyDrive/Active_Learning/Active_Learning_ground_truth.csv\")\n",
        "y2 = y2.to_numpy().ravel()\n",
        "\n",
        "for i in range(5):\n",
        "    print(X2[i])\n",
        "    print(y2[i])\n",
        "    print()\n",
        "\n",
        "# Split dataset to train-val-test (70-10-20)\n",
        "X_train2, X_test2, y_train2, y_test2 = train_test_split(X2, y2, test_size = 0.2, random_state=42, stratify=y2)\n",
        "\n",
        "X_train2, X_val2 , y_train2, y_val2 = train_test_split(X_train2, y_train2, test_size = 0.125, random_state=42, stratify=y_train2)\n",
        "\n",
        "#Stack\n",
        "X_train = np.append(X_train, X_train2)\n",
        "X_val = X_val2\n",
        "X_test_old = X_test\n",
        "X_test = X_test2\n",
        "\n",
        "y_train = np.append(y_train, y_train2)\n",
        "y_val = y_val2\n",
        "y_test_old = y_test\n",
        "y_test = y_test2\n",
        "\n",
        "print(\"Training samples:\", len(y_train))\n",
        "print(\"Validation samples:\", len(y_val))\n",
        "print(\"Old test samples:\", len(y_test_old))\n",
        "print(\"Old test samples:\", len(X_test_old))\n",
        "print(\"Test samples:\", len(X_test))\n",
        "print(\"Test samples:\", len(y_test))"
      ],
      "metadata": {
        "colab": {
          "base_uri": "https://localhost:8080/"
        },
        "id": "yb7Ld3gamofC",
        "outputId": "02e5db31-4dee-42f8-f55d-141f102b7b9e"
      },
      "execution_count": null,
      "outputs": [
        {
          "output_type": "stream",
          "name": "stdout",
          "text": [
            "ως ελευθερη επαγγελματιας, εχω βιωσει απο πρωτο χερι τη λεηλασια που εχουν υποστει η μεσαια ταξη και τα χαμηλα εισοδηματα! γνωριζω καλα τον ανισο αγωνα που δινουν καθημερινα οι πολιτες αυτης της χωρας! στις #εκλογες_2023 δωστε μου φωνη για να γινω η δικη σας! #δικαιοσυνηπαντου\n",
            "1\n",
            "\n",
            "σημερα στις 18:00, ο λογος δινεται στους υποψηφιους της #συμμαχιας_ανατροπης.. και ακομη ποια γνωστα γνωστα προσωπα και κινηματα στηριζουν τη συμμαχια. ζωντανα και αποκλειστικα στο #εκλογες_2023 #εκλογες_21__μαιου #υποκλοπες\n",
            "1\n",
            "\n",
            "διαχειριση ηττας loading… #εκλογες_2023\n",
            "1\n",
            "\n",
            "👷‍♀️ εργατικα ατυχηματα 🔸 72% αυξηση, την περιοδο μητσοτακη στον αριθμο των εργατικων ατυχηματων (θανατηφορων η με σωματικη βλαβη) 📈+16% η αυξηση στα θανατηφορα εργατικα δυστυχηματα πηγη: ελληνικη αστυνομια (στατιστικη επετηριδα) 🗳️ #εκλογες2023 #εκλογες_2023…\n",
            "0\n",
            "\n",
            "δειτε το live εδω #εθνικο_κομμα_ελληνες #εκλογες_2023 #εκλογες_21ης__μαιου #δικαιοσυνη\n",
            "1\n",
            "\n",
            "Training samples: 1213\n",
            "Validation samples: 10\n",
            "Old test samples: 328\n",
            "Old test samples: 328\n",
            "Test samples: 19\n",
            "Test samples: 19\n"
          ]
        }
      ]
    },
    {
      "cell_type": "markdown",
      "source": [
        "**Section 3: Create word embeddings**"
      ],
      "metadata": {
        "id": "jcBQj6dr4E35"
      }
    },
    {
      "cell_type": "code",
      "source": [
        "# BERT embeddings\n",
        "tokenizer = BertTokenizerFast.from_pretrained(\"nlpaueb/bert-base-greek-uncased-v1\")\n",
        "bert_train_encodings = tokenizer(list(X_train), truncation=True, padding=True)\n",
        "bert_val_encodings = tokenizer(list(X_val), truncation=True, padding=True)\n",
        "bert_test_old_encodings = tokenizer(list(X_test_old), truncation=True, padding=True)\n",
        "bert_test_encodings = tokenizer(list(X_test), truncation=True, padding=True)"
      ],
      "metadata": {
        "id": "Mv8rLaLm5ten",
        "colab": {
          "base_uri": "https://localhost:8080/"
        },
        "outputId": "e80c68da-0d37-49b4-a492-4f7b4068b382"
      },
      "execution_count": null,
      "outputs": [
        {
          "output_type": "stream",
          "name": "stderr",
          "text": [
            "Asking to truncate to max_length but no maximum length is provided and the model has no predefined maximum length. Default to no truncation.\n"
          ]
        }
      ]
    },
    {
      "cell_type": "markdown",
      "source": [
        "**Section 4: Model Training**"
      ],
      "metadata": {
        "id": "s29E7N4r4JRC"
      }
    },
    {
      "cell_type": "code",
      "source": [
        "# Greek BERT\n",
        "import evaluate\n",
        "accuracy_metric = evaluate.load(\"accuracy\")\n",
        "recall_metric = evaluate.load(\"recall\")\n",
        "precision_metric = evaluate.load(\"precision\")\n",
        "f1_metric = evaluate.load(\"f1\")\n",
        "\n",
        "def compute_metrics(eval_pred):\n",
        "    logits, labels = eval_pred\n",
        "    predictions = np.argmax(logits, axis=-1)\n",
        "    results = {}\n",
        "    results.update(accuracy_metric.compute(predictions=predictions, references=labels))\n",
        "    results.update(recall_metric.compute(predictions=predictions, references=labels, average=\"macro\"))\n",
        "    results.update(precision_metric.compute(predictions=predictions, references=labels, average=\"macro\"))\n",
        "    results.update(f1_metric.compute(predictions=predictions, references=labels, average=\"macro\"))\n",
        "    return results\n",
        "\n",
        "# Create BERT datasets\n",
        "class TwitterDataset(torch.utils.data.Dataset):\n",
        "    def __init__(self, encodings, labels):\n",
        "        self.encodings = encodings\n",
        "        self.labels = labels\n",
        "\n",
        "    def __getitem__(self, idx):\n",
        "        item = {key: torch.tensor(val[idx]) for key, val in self.encodings.items()}\n",
        "        item['labels'] = torch.tensor(self.labels[idx])\n",
        "        return item\n",
        "\n",
        "    def __len__(self):\n",
        "        return len(self.labels)\n",
        "\n",
        "def train_BERT():\n",
        "    bert_train_dataset = TwitterDataset(bert_train_encodings, y_train)\n",
        "    bert_val_dataset = TwitterDataset(bert_val_encodings, y_val)\n",
        "    bert_test_old_dataset = TwitterDataset(bert_test_old_encodings, y_test_old)\n",
        "    bert_test_dataset = TwitterDataset(bert_test_encodings, y_test)\n",
        "\n",
        "    model = BertForSequenceClassification.from_pretrained(\"drive/MyDrive/BERT\", num_labels=3)\n",
        "\n",
        "    # Set training arguments\n",
        "    training_args = TrainingArguments(\n",
        "        evaluation_strategy='epoch',     # evaluation frequency\n",
        "        save_strategy='epoch',           # model checkpoint frequency\n",
        "        logging_strategy='epoch',        # logging frequency\n",
        "        log_level='warning',             # logging level\n",
        "        output_dir='./results',          # output directory\n",
        "        num_train_epochs=6,              # total number of training epochs\n",
        "        per_device_train_batch_size=16,  # batch size per device during training\n",
        "        per_device_eval_batch_size=64,   # batch size for evaluation, change according to GPU memory capabilities\n",
        "        warmup_steps=200,                # number of warmup steps for learning rate scheduler\n",
        "        weight_decay=0.001,              # strength of weight decay\n",
        "        logging_dir='./logs',             # directory for storing logs\n",
        "        load_best_model_at_end = True,\n",
        "        metric_for_best_model = \"f1\",\n",
        "        seed=42\n",
        "    )\n",
        "\n",
        "    trainer = Trainer(\n",
        "        model=model,\n",
        "        args=training_args,\n",
        "        train_dataset=bert_train_dataset,\n",
        "        eval_dataset=bert_val_dataset,\n",
        "        compute_metrics=compute_metrics\n",
        "    )\n",
        "\n",
        "    metrics=trainer.evaluate(eval_dataset=bert_test_old_dataset)\n",
        "    print(metrics)\n",
        "\n",
        "    metrics=trainer.evaluate(eval_dataset=bert_test_dataset)\n",
        "    print(metrics)\n",
        "\n",
        "    trainer.train()\n",
        "\n",
        "    metrics=trainer.evaluate(eval_dataset=bert_test_old_dataset)\n",
        "    print(metrics)\n",
        "\n",
        "    metrics=trainer.evaluate(eval_dataset=bert_test_dataset)\n",
        "    print(metrics)\n",
        "\n",
        "    trainer.save_model(\"drive/MyDrive/BERT_Active\")"
      ],
      "metadata": {
        "id": "3nO4Jy9f1bjz"
      },
      "execution_count": null,
      "outputs": []
    },
    {
      "cell_type": "code",
      "source": [
        "train_BERT()"
      ],
      "metadata": {
        "id": "NWTNC01y6ZS5",
        "colab": {
          "base_uri": "https://localhost:8080/",
          "height": 428
        },
        "outputId": "3a19a0a2-464f-4bbc-a170-47356ded8c03"
      },
      "execution_count": null,
      "outputs": [
        {
          "output_type": "display_data",
          "data": {
            "text/plain": [
              "<IPython.core.display.HTML object>"
            ],
            "text/html": [
              "\n",
              "    <div>\n",
              "      \n",
              "      <progress value='8' max='6' style='width:300px; height:20px; vertical-align: middle;'></progress>\n",
              "      [6/6 00:22]\n",
              "    </div>\n",
              "    "
            ]
          },
          "metadata": {}
        },
        {
          "output_type": "stream",
          "name": "stdout",
          "text": [
            "{'eval_loss': 0.8366826772689819, 'eval_accuracy': 0.8780487804878049, 'eval_recall': 0.7745865587614356, 'eval_precision': 0.7649431609827649, 'eval_f1': 0.7687175372661628, 'eval_runtime': 1.8205, 'eval_samples_per_second': 180.169, 'eval_steps_per_second': 3.296}\n",
            "{'eval_loss': 1.5197800397872925, 'eval_accuracy': 0.47368421052631576, 'eval_recall': 0.5833333333333334, 'eval_precision': 0.5222222222222223, 'eval_f1': 0.48034188034188025, 'eval_runtime': 0.1027, 'eval_samples_per_second': 185.032, 'eval_steps_per_second': 9.739}\n"
          ]
        },
        {
          "output_type": "stream",
          "name": "stderr",
          "text": [
            "/usr/local/lib/python3.10/dist-packages/transformers/optimization.py:391: FutureWarning: This implementation of AdamW is deprecated and will be removed in a future version. Use the PyTorch implementation torch.optim.AdamW instead, or set `no_deprecation_warning=True` to disable this warning\n",
            "  warnings.warn(\n"
          ]
        },
        {
          "output_type": "display_data",
          "data": {
            "text/plain": [
              "<IPython.core.display.HTML object>"
            ],
            "text/html": [
              "\n",
              "    <div>\n",
              "      \n",
              "      <progress value='456' max='456' style='width:300px; height:20px; vertical-align: middle;'></progress>\n",
              "      [456/456 02:45, Epoch 6/6]\n",
              "    </div>\n",
              "    <table border=\"1\" class=\"dataframe\">\n",
              "  <thead>\n",
              " <tr style=\"text-align: left;\">\n",
              "      <th>Epoch</th>\n",
              "      <th>Training Loss</th>\n",
              "      <th>Validation Loss</th>\n",
              "      <th>Accuracy</th>\n",
              "      <th>Recall</th>\n",
              "      <th>Precision</th>\n",
              "      <th>F1</th>\n",
              "    </tr>\n",
              "  </thead>\n",
              "  <tbody>\n",
              "    <tr>\n",
              "      <td>1</td>\n",
              "      <td>0.108600</td>\n",
              "      <td>1.729968</td>\n",
              "      <td>0.700000</td>\n",
              "      <td>0.611111</td>\n",
              "      <td>0.875000</td>\n",
              "      <td>0.645299</td>\n",
              "    </tr>\n",
              "    <tr>\n",
              "      <td>2</td>\n",
              "      <td>0.118700</td>\n",
              "      <td>1.893996</td>\n",
              "      <td>0.500000</td>\n",
              "      <td>0.433333</td>\n",
              "      <td>0.357143</td>\n",
              "      <td>0.388889</td>\n",
              "    </tr>\n",
              "    <tr>\n",
              "      <td>3</td>\n",
              "      <td>0.086000</td>\n",
              "      <td>1.088035</td>\n",
              "      <td>0.700000</td>\n",
              "      <td>0.655556</td>\n",
              "      <td>0.711111</td>\n",
              "      <td>0.666667</td>\n",
              "    </tr>\n",
              "    <tr>\n",
              "      <td>4</td>\n",
              "      <td>0.038100</td>\n",
              "      <td>1.792075</td>\n",
              "      <td>0.600000</td>\n",
              "      <td>0.544444</td>\n",
              "      <td>0.683333</td>\n",
              "      <td>0.544444</td>\n",
              "    </tr>\n",
              "    <tr>\n",
              "      <td>5</td>\n",
              "      <td>0.021400</td>\n",
              "      <td>1.841515</td>\n",
              "      <td>0.700000</td>\n",
              "      <td>0.700000</td>\n",
              "      <td>0.666667</td>\n",
              "      <td>0.674603</td>\n",
              "    </tr>\n",
              "    <tr>\n",
              "      <td>6</td>\n",
              "      <td>0.012000</td>\n",
              "      <td>1.746059</td>\n",
              "      <td>0.700000</td>\n",
              "      <td>0.700000</td>\n",
              "      <td>0.666667</td>\n",
              "      <td>0.674603</td>\n",
              "    </tr>\n",
              "  </tbody>\n",
              "</table><p>"
            ]
          },
          "metadata": {}
        },
        {
          "output_type": "display_data",
          "data": {
            "text/plain": [
              "<IPython.core.display.HTML object>"
            ],
            "text/html": [
              "\n",
              "    <div>\n",
              "      \n",
              "      <progress value='7' max='6' style='width:300px; height:20px; vertical-align: middle;'></progress>\n",
              "      [6/6 00:00]\n",
              "    </div>\n",
              "    "
            ]
          },
          "metadata": {}
        },
        {
          "output_type": "stream",
          "name": "stdout",
          "text": [
            "{'eval_loss': 0.9866450428962708, 'eval_accuracy': 0.875, 'eval_recall': 0.7502345765892565, 'eval_precision': 0.7739867468022807, 'eval_f1': 0.7605667527955612, 'eval_runtime': 1.0522, 'eval_samples_per_second': 311.733, 'eval_steps_per_second': 5.702, 'epoch': 6.0}\n",
            "{'eval_loss': 1.4354480504989624, 'eval_accuracy': 0.7368421052631579, 'eval_recall': 0.6166666666666667, 'eval_precision': 0.7008547008547009, 'eval_f1': 0.6350931677018633, 'eval_runtime': 0.1089, 'eval_samples_per_second': 174.482, 'eval_steps_per_second': 9.183, 'epoch': 6.0}\n"
          ]
        }
      ]
    }
  ]
}